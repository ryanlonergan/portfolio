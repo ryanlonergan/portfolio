{
  "nbformat": 4,
  "nbformat_minor": 0,
  "metadata": {
    "kernelspec": {
      "display_name": "Python 3",
      "language": "python",
      "name": "python3"
    },
    "language_info": {
      "codemirror_mode": {
        "name": "ipython",
        "version": 3
      },
      "file_extension": ".py",
      "mimetype": "text/x-python",
      "name": "python",
      "nbconvert_exporter": "python",
      "pygments_lexer": "ipython3",
      "version": "3.6.3"
    },
    "colab": {
      "name": "iris_classification.ipynb",
      "provenance": [],
      "collapsed_sections": [
        "bSsc9tL7hs1k"
      ]
    }
  },
  "cells": [
    {
      "cell_type": "markdown",
      "metadata": {
        "id": "7bYyOjdzhs1T",
        "colab_type": "text"
      },
      "source": [
        "# Iris  Project\n",
        "\n"
      ]
    },
    {
      "cell_type": "code",
      "metadata": {
        "id": "WsJh8RbLhs1V",
        "colab_type": "code",
        "colab": {}
      },
      "source": [
        "# import packages\n",
        "%matplotlib inline\n",
        "import numpy as np\n",
        "import matplotlib.pyplot as plt\n",
        "import seaborn as sns\n",
        "import pandas as pd\n",
        "from matplotlib.legend_handler import HandlerLine2D\n",
        "from sklearn.metrics import accuracy_score\n",
        "from sklearn.metrics import confusion_matrix\n",
        "from sklearn.metrics import classification_report\n",
        "from sklearn.metrics import mean_squared_error\n",
        "from sklearn.metrics import mean_absolute_error\n",
        "from sklearn.tree import DecisionTreeClassifier\n",
        "from sklearn.tree import DecisionTreeRegressor\n",
        "from sklearn.model_selection import GridSearchCV\n",
        "\n",
        "# stablize output across runs\n",
        "np.random.seed(0)"
      ],
      "execution_count": 12,
      "outputs": []
    },
    {
      "cell_type": "markdown",
      "metadata": {
        "id": "EZGblkNkhs2g",
        "colab_type": "text"
      },
      "source": [
        "## Dataset\n",
        "\n",
        "This project uses the well known Iris dataset to classify the flowers into three subspecies: iris setosa, iris virginica and iris versicolor. It has four  features, including:\n",
        "- Sepal.Length: sepal length in centimeters.\n",
        "- Sepal.Width: sepal width in centimeters.\n",
        "- Petal.Length: petal length in centimeters.\n",
        "- Petal.Width: petal width in centimeters."
      ]
    },
    {
      "cell_type": "code",
      "metadata": {
        "id": "8BfuNcWVhs2h",
        "colab_type": "code",
        "colab": {
          "base_uri": "https://localhost:8080/",
          "height": 255
        },
        "outputId": "7fc91615-7c9c-4d79-ad53-e1e67c6df129"
      },
      "source": [
        "# load the iris train and test data from CSV files\n",
        "train = pd.read_csv('https://raw.githubusercontent.com/zariable/data/master/iris_train.csv')\n",
        "test = pd.read_csv('https://raw.githubusercontent.com/zariable/data/master/iris_test.csv')\n",
        "\n",
        "'''\n",
        "This dataset was made by my professor, but comes from the Iris Dataset.\n",
        "It can also be imported through sklearn and divided using a 67% training and 33% test split.\n",
        "\n",
        "from sklearn import datasets\n",
        "data = datasets.load_iris()\n",
        "'''\n",
        "\n",
        "train_x = train.iloc[:,0:4]\n",
        "train_y = train.iloc[:,4]\n",
        "\n",
        "test_x = test.iloc[:,0:4]\n",
        "test_y = test.iloc[:,4]\n",
        "\n",
        "# print the number of instances in each class\n",
        "print('Train Data\\n\\n'+ str(train_y.value_counts().sort_index()))\n",
        "print('\\n\\nTest Data\\n\\n' + str(test_y.value_counts().sort_index()))"
      ],
      "execution_count": 63,
      "outputs": [
        {
          "output_type": "stream",
          "text": [
            "Train Data\n",
            "\n",
            "Iris-setosa        34\n",
            "Iris-versicolor    32\n",
            "Iris-virginica     39\n",
            "Name: species, dtype: int64\n",
            "\n",
            "\n",
            "Test Data\n",
            "\n",
            "Iris-setosa        16\n",
            "Iris-versicolor    18\n",
            "Iris-virginica     11\n",
            "Name: species, dtype: int64\n"
          ],
          "name": "stdout"
        }
      ]
    },
    {
      "cell_type": "markdown",
      "metadata": {
        "id": "tpe8jv7Qhs2f",
        "colab_type": "text"
      },
      "source": [
        "### Decision Tree Classifier"
      ]
    },
    {
      "cell_type": "markdown",
      "metadata": {
        "id": "8JwQoOdPhs2j",
        "colab_type": "text"
      },
      "source": [
        "#### Training and visualizing a basic DTC"
      ]
    },
    {
      "cell_type": "code",
      "metadata": {
        "scrolled": true,
        "id": "Y80Nilx1hs2o",
        "colab_type": "code",
        "colab": {
          "base_uri": "https://localhost:8080/",
          "height": 555
        },
        "outputId": "a7ecfc69-f966-47ef-f27a-060201369ccc"
      },
      "source": [
        "from sklearn.externals.six import StringIO  \n",
        "from IPython.display import Image  \n",
        "from sklearn.tree import export_graphviz\n",
        "import pydotplus\n",
        "\n",
        "# Making simple DTC to get an idea of the data\n",
        "dtc = DecisionTreeClassifier(max_depth=2)\n",
        "print(dtc.fit(train_x, train_y),\"\\n\")\n",
        "\n",
        "dot_data = StringIO()\n",
        "feature_names = train_x.columns\n",
        "class_names = train_y.unique()\n",
        "class_names.sort()\n",
        "export_graphviz(dtc, out_file=dot_data, feature_names=feature_names,\n",
        "                class_names=class_names, filled=True, rounded=True)\n",
        "graph = pydotplus.graph_from_dot_data(dot_data.getvalue())  \n",
        "Image(graph.create_png())"
      ],
      "execution_count": 69,
      "outputs": [
        {
          "output_type": "stream",
          "text": [
            "DecisionTreeClassifier(ccp_alpha=0.0, class_weight=None, criterion='gini',\n",
            "                       max_depth=2, max_features=None, max_leaf_nodes=None,\n",
            "                       min_impurity_decrease=0.0, min_impurity_split=None,\n",
            "                       min_samples_leaf=1, min_samples_split=2,\n",
            "                       min_weight_fraction_leaf=0.0, presort='deprecated',\n",
            "                       random_state=None, splitter='best') \n",
            "\n"
          ],
          "name": "stdout"
        },
        {
          "output_type": "execute_result",
          "data": {
            "image/png": "[encoded data removed]",
            "text/plain": [
              "<IPython.core.display.Image object>"
            ]
          },
          "metadata": {
            "tags": []
          },
          "execution_count": 69
        }
      ]
    },
    {
      "cell_type": "markdown",
      "metadata": {
        "id": "W94pWMvIhs2t",
        "colab_type": "text"
      },
      "source": [
        "#### Evaulating performance"
      ]
    },
    {
      "cell_type": "code",
      "metadata": {
        "id": "ugRPudSThs2u",
        "colab_type": "code",
        "colab": {
          "base_uri": "https://localhost:8080/",
          "height": 357
        },
        "outputId": "7ebef802-c13b-4aa6-9fb7-1af52e064a97"
      },
      "source": [
        "# Examing the performance of the DTC\n",
        "test_z = dtc.predict(test_x)\n",
        "\n",
        "print(\"model accuracy: {}\".format(round(accuracy_score(test_y, test_z),4)))\n",
        "print(\"\\n\\nmodel confusion matrix:\\n {}\".format(confusion_matrix(test_y, test_z,\n",
        "      labels=[\"Iris-setosa\", \"Iris-versicolor\", \"Iris-virginica\"])))\n",
        "print(\"\\n\\nclassification report:\\n {}\".format(classification_report(test_y, test_z,\n",
        "      labels=[\"Iris-setosa\", \"Iris-versicolor\", \"Iris-virginica\"])))"
      ],
      "execution_count": 16,
      "outputs": [
        {
          "output_type": "stream",
          "text": [
            "model accuracy: 0.9111\n",
            "\n",
            "\n",
            "model confusion matrix:\n",
            " [[16  0  0]\n",
            " [ 0 17  1]\n",
            " [ 0  3  8]]\n",
            "\n",
            "\n",
            "classification report:\n",
            "                  precision    recall  f1-score   support\n",
            "\n",
            "    Iris-setosa       1.00      1.00      1.00        16\n",
            "Iris-versicolor       0.85      0.94      0.89        18\n",
            " Iris-virginica       0.89      0.73      0.80        11\n",
            "\n",
            "       accuracy                           0.91        45\n",
            "      macro avg       0.91      0.89      0.90        45\n",
            "   weighted avg       0.91      0.91      0.91        45\n",
            "\n"
          ],
          "name": "stdout"
        }
      ]
    },
    {
      "cell_type": "markdown",
      "metadata": {
        "id": "RMzcZjQQhs2x",
        "colab_type": "text"
      },
      "source": [
        "#### Exploring Hyper-parameters"
      ]
    },
    {
      "cell_type": "code",
      "metadata": {
        "id": "uw23r_MXhs2x",
        "colab_type": "code",
        "colab": {
          "base_uri": "https://localhost:8080/",
          "height": 295
        },
        "outputId": "15709fdd-daec-4a27-f018-7820340f0b0b"
      },
      "source": [
        "# Evaluated performance of DT model by changing max_depth\n",
        "\n",
        "# However, there were only 3 features, so max_depth was value between 1 and 3. \n",
        "\n",
        "max_depth = range(1,11)\n",
        "train_accuracy = []\n",
        "test_accuracy = []\n",
        "for x in max_depth:\n",
        "   dtc = DecisionTreeClassifier(max_depth=x)\n",
        "   dtc.fit(train_x, train_y)\n",
        "   test_z = dtc.predict(test_x)\n",
        "   train_z = dtc.predict(train_x)\n",
        "   train_accuracy.append(accuracy_score(train_y,train_z))\n",
        "   test_accuracy.append(accuracy_score(test_y,test_z))\n",
        "\n",
        "plt.plot(max_depth,train_accuracy, label='Train Data')\n",
        "plt.plot(max_depth,test_accuracy, label='Test Data')\n",
        "plt.title('Model Accuracy for Different Max Depth Values')\n",
        "plt.xlabel('Max Depth')\n",
        "plt.ylabel('Accuracy')\n",
        "plt.legend()\n",
        "plt.xlim(left=1, right=10)\n",
        "plt.grid()"
      ],
      "execution_count": 45,
      "outputs": [
        {
          "output_type": "display_data",
          "data": {
            "image/png": "[encoded data removed]",
            "text/plain": [
              "<Figure size 432x288 with 1 Axes>"
            ]
          },
          "metadata": {
            "tags": [],
            "needs_background": "light"
          }
        }
      ]
    },
    {
      "cell_type": "markdown",
      "metadata": {
        "id": "2iaLr1ufhs20",
        "colab_type": "text"
      },
      "source": [
        "#### Examing the DTC in greater detail\n",
        "\n",
        "Used GridSearchCV to change hyper-parameters"
      ]
    },
    {
      "cell_type": "code",
      "metadata": {
        "id": "HyKaQy3mxGgY",
        "colab_type": "code",
        "colab": {}
      },
      "source": [
        "# Created function for reporting results\n",
        "\n",
        "def reporting(x):\n",
        "  print(\"The best score is {}\".format(round((x.best_score_),4)))\n",
        "  print(\"The best hyper parameter setting is {}\\n\".format(x.best_params_))\n",
        "\n",
        "  test_z = x.predict(test_x)\n",
        "\n",
        "  print(\"model accuracy: {}\".format(round(accuracy_score(test_y, test_z),4)))\n",
        "  print(\"\\n\\nmodel confusion matrix:\\n {}\".format(confusion_matrix(test_y, test_z,\n",
        "      labels=[\"Iris-setosa\", \"Iris-versicolor\", \"Iris-virginica\"])))\n",
        "  print(\"\\n\\nclassification report:\\n {}\".format(classification_report(test_y, test_z,\n",
        "      labels=[\"Iris-setosa\", \"Iris-versicolor\", \"Iris-virginica\"])))"
      ],
      "execution_count": 42,
      "outputs": []
    },
    {
      "cell_type": "code",
      "metadata": {
        "id": "9fuI5TWkhs21",
        "colab_type": "code",
        "colab": {
          "base_uri": "https://localhost:8080/",
          "height": 408
        },
        "outputId": "e3df6d48-69a0-4f8f-c563-024b28da0247"
      },
      "source": [
        "# Fine-tuned the model, useing grid search with 3-fold cross-validation\n",
        "parameters = {\n",
        "    'criterion': ['gini','entropy'],\n",
        "    'max_depth': [1,2,3],\n",
        "    'min_samples_split': [0.01,0.05,0.1,0.15]\n",
        "}\n",
        "\n",
        "dt = DecisionTreeClassifier()\n",
        "grid = GridSearchCV(dt, parameters, cv =3)\n",
        "grid.fit(train_x,train_y)\n",
        "\n",
        "reporting(grid)"
      ],
      "execution_count": 84,
      "outputs": [
        {
          "output_type": "stream",
          "text": [
            "The best score is 0.9619\n",
            "The best hyper parameter setting is {'criterion': 'gini', 'max_depth': 3, 'min_samples_split': 0.01}\n",
            "\n",
            "model accuracy: 0.9778\n",
            "\n",
            "\n",
            "model confusion matrix:\n",
            " [[16  0  0]\n",
            " [ 0 17  1]\n",
            " [ 0  0 11]]\n",
            "\n",
            "\n",
            "classification report:\n",
            "                  precision    recall  f1-score   support\n",
            "\n",
            "    Iris-setosa       1.00      1.00      1.00        16\n",
            "Iris-versicolor       1.00      0.94      0.97        18\n",
            " Iris-virginica       0.92      1.00      0.96        11\n",
            "\n",
            "       accuracy                           0.98        45\n",
            "      macro avg       0.97      0.98      0.98        45\n",
            "   weighted avg       0.98      0.98      0.98        45\n",
            "\n"
          ],
          "name": "stdout"
        }
      ]
    },
    {
      "cell_type": "markdown",
      "metadata": {
        "id": "ZXeHA4TThs24",
        "colab_type": "text"
      },
      "source": [
        "#Exploring different methods for classifications"
      ]
    },
    {
      "cell_type": "markdown",
      "metadata": {
        "id": "fLrLCXpbIHI2",
        "colab_type": "text"
      },
      "source": [
        "### Random Forest"
      ]
    },
    {
      "cell_type": "code",
      "metadata": {
        "id": "UTzDdKnoIDM1",
        "colab_type": "code",
        "colab": {
          "base_uri": "https://localhost:8080/",
          "height": 408
        },
        "outputId": "77e242f2-ad93-4635-d60b-93cdad5ace79"
      },
      "source": [
        "from sklearn.ensemble import RandomForestClassifier\n",
        "\n",
        "parameters = {\n",
        "    \"n_estimators\": [20, 40],\n",
        "    'criterion': ['gini','entropy'],\n",
        "    \"max_depth\": [1,2,3], \n",
        "    \"min_samples_split\": [0.01,0.05,0.1,0.15]\n",
        "}\n",
        "\n",
        "rfc_grid = GridSearchCV(RandomForestClassifier(n_jobs=-1, random_state=0), parameters, cv=3)\n",
        "rfc_grid.fit(train_x, train_y)\n",
        "\n",
        "reporting(rfc_grid)"
      ],
      "execution_count": 85,
      "outputs": [
        {
          "output_type": "stream",
          "text": [
            "The best score is 0.9619\n",
            "The best hyper parameter setting is {'criterion': 'gini', 'max_depth': 2, 'min_samples_split': 0.01, 'n_estimators': 40}\n",
            "\n",
            "model accuracy: 0.9556\n",
            "\n",
            "\n",
            "model confusion matrix:\n",
            " [[16  0  0]\n",
            " [ 0 17  1]\n",
            " [ 0  1 10]]\n",
            "\n",
            "\n",
            "classification report:\n",
            "                  precision    recall  f1-score   support\n",
            "\n",
            "    Iris-setosa       1.00      1.00      1.00        16\n",
            "Iris-versicolor       0.94      0.94      0.94        18\n",
            " Iris-virginica       0.91      0.91      0.91        11\n",
            "\n",
            "       accuracy                           0.96        45\n",
            "      macro avg       0.95      0.95      0.95        45\n",
            "   weighted avg       0.96      0.96      0.96        45\n",
            "\n"
          ],
          "name": "stdout"
        }
      ]
    },
    {
      "cell_type": "markdown",
      "metadata": {
        "id": "VKgNC7kzIWNC",
        "colab_type": "text"
      },
      "source": [
        "### Adaboost"
      ]
    },
    {
      "cell_type": "code",
      "metadata": {
        "id": "hDcP-xy_IXFF",
        "colab_type": "code",
        "colab": {
          "base_uri": "https://localhost:8080/",
          "height": 408
        },
        "outputId": "e8799b14-0de7-434e-d894-6977dd137f9c"
      },
      "source": [
        "from sklearn.ensemble import AdaBoostClassifier\n",
        "\n",
        "parameters = {\n",
        "    \"n_estimators\": [10,20, 30, 40],\n",
        "    \"learning_rate\": [0.01, 0.05, 0.1, 1, 10]\n",
        "}\n",
        "\n",
        "adaboost=AdaBoostClassifier(DecisionTreeClassifier(max_depth=3), random_state=0)\n",
        "adaboost_grid = GridSearchCV(adaboost, parameters, cv=3)\n",
        "adaboost_grid.fit(train_x, train_y)\n",
        "\n",
        "reporting(adaboost_grid)"
      ],
      "execution_count": 87,
      "outputs": [
        {
          "output_type": "stream",
          "text": [
            "The best score is 0.9619\n",
            "The best hyper parameter setting is {'learning_rate': 0.1, 'n_estimators': 10}\n",
            "\n",
            "model accuracy: 0.9556\n",
            "\n",
            "\n",
            "model confusion matrix:\n",
            " [[16  0  0]\n",
            " [ 0 17  1]\n",
            " [ 0  1 10]]\n",
            "\n",
            "\n",
            "classification report:\n",
            "                  precision    recall  f1-score   support\n",
            "\n",
            "    Iris-setosa       1.00      1.00      1.00        16\n",
            "Iris-versicolor       0.94      0.94      0.94        18\n",
            " Iris-virginica       0.91      0.91      0.91        11\n",
            "\n",
            "       accuracy                           0.96        45\n",
            "      macro avg       0.95      0.95      0.95        45\n",
            "   weighted avg       0.96      0.96      0.96        45\n",
            "\n"
          ],
          "name": "stdout"
        }
      ]
    },
    {
      "cell_type": "markdown",
      "metadata": {
        "id": "tpZFN60NIWdK",
        "colab_type": "text"
      },
      "source": [
        "### Gradient Boosting"
      ]
    },
    {
      "cell_type": "code",
      "metadata": {
        "id": "mmRcvEkSIXrR",
        "colab_type": "code",
        "colab": {
          "base_uri": "https://localhost:8080/",
          "height": 408
        },
        "outputId": "2a29ba03-40fc-4bc9-86f8-afb68f01ee5f"
      },
      "source": [
        "from sklearn.ensemble import GradientBoostingClassifier\n",
        "\n",
        "parameters = {\n",
        "    \"loss\":[\"deviance\",\"exponential\"],\n",
        "    \"learning_rate\": [0.01, 0.05,0.1],\n",
        "    \"min_samples_split\": [0.05, 0.1, 0.2],\n",
        "    \"max_depth\":[1,2,3],\n",
        "    \"n_estimators\":[25,50,75,100]\n",
        "}\n",
        "\n",
        "gbc_grid = GridSearchCV(GradientBoostingClassifier(), parameters, cv=3, n_jobs=-1)\n",
        "gbc_grid.fit(train_x, train_y)\n",
        "\n",
        "reporting(gbc_grid)"
      ],
      "execution_count": 83,
      "outputs": [
        {
          "output_type": "stream",
          "text": [
            "The best score is 0.9619\n",
            "The best hyper parameter setting is {'learning_rate': 0.01, 'loss': 'deviance', 'max_depth': 2, 'min_samples_split': 0.05, 'n_estimators': 50}\n",
            "\n",
            "model accuracy: 0.9778\n",
            "\n",
            "\n",
            "model confusion matrix:\n",
            " [[16  0  0]\n",
            " [ 0 17  1]\n",
            " [ 0  0 11]]\n",
            "\n",
            "\n",
            "classification report:\n",
            "                  precision    recall  f1-score   support\n",
            "\n",
            "    Iris-setosa       1.00      1.00      1.00        16\n",
            "Iris-versicolor       1.00      0.94      0.97        18\n",
            " Iris-virginica       0.92      1.00      0.96        11\n",
            "\n",
            "       accuracy                           0.98        45\n",
            "      macro avg       0.97      0.98      0.98        45\n",
            "   weighted avg       0.98      0.98      0.98        45\n",
            "\n"
          ],
          "name": "stdout"
        }
      ]
    }
  ]
}